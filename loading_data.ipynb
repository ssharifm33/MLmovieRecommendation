{
 "cells": [
  {
   "cell_type": "code",
   "execution_count": 9,
   "metadata": {},
   "outputs": [],
   "source": [
    "import numpy as np\n",
    "import pandas as pd\n",
    "import os\n",
    "\n",
    "# Plotting utils\n",
    "import matplotlib\n",
    "import matplotlib.pyplot as plt"
   ]
  },
  {
   "cell_type": "code",
   "execution_count": 10,
   "id": "66ff0841",
   "metadata": {},
   "outputs": [],
   "source": [
    "from train_valid_test_loader import load_train_valid_test_datasets"
   ]
  },
  {
   "cell_type": "code",
   "execution_count": 11,
   "id": "2af9a83d",
   "metadata": {},
   "outputs": [],
   "source": [
    "train_tuple, valid_tuple, test_tuple, n_users, n_items = \\\n",
    "        load_train_valid_test_datasets()"
   ]
  },
  {
   "cell_type": "code",
   "execution_count": 12,
   "id": "87e5c990",
   "metadata": {},
   "outputs": [
    {
     "data": {
      "text/plain": [
       "3"
      ]
     },
     "execution_count": 12,
     "metadata": {},
     "output_type": "execute_result"
    }
   ],
   "source": [
    "len(train_tuple)"
   ]
  },
  {
   "cell_type": "code",
   "execution_count": 13,
   "id": "a626b7d3",
   "metadata": {},
   "outputs": [
    {
     "data": {
      "text/plain": [
       "array([662, 298,  90, ..., 574, 757, 503])"
      ]
     },
     "execution_count": 13,
     "metadata": {},
     "output_type": "execute_result"
    }
   ],
   "source": [
    "train_tuple[0]"
   ]
  },
  {
   "cell_type": "code",
   "execution_count": 14,
   "id": "e7ba95f7",
   "metadata": {},
   "outputs": [
    {
     "name": "stdout",
     "output_type": "stream",
     "text": [
      "Requirement already satisfied: autograd in /Users/sammiller/opt/anaconda3/envs/cs135_env/lib/python3.10/site-packages (1.6.2)\n",
      "Requirement already satisfied: numpy>=1.12 in /Users/sammiller/opt/anaconda3/envs/cs135_env/lib/python3.10/site-packages (from autograd) (1.23.5)\n",
      "Requirement already satisfied: future>=0.15.2 in /Users/sammiller/opt/anaconda3/envs/cs135_env/lib/python3.10/site-packages (from autograd) (1.0.0)\n"
     ]
    }
   ],
   "source": [
    "pip install autograd"
   ]
  },
  {
   "cell_type": "code",
   "execution_count": null,
   "id": "59fa356f",
   "metadata": {},
   "outputs": [],
   "source": [
    "import autograd.numpy as ag_np\n",
    "from autograd.numpy.numpy_boxes import ArrayBox\n",
    "import numpy as np"
   ]
  },
  {
   "cell_type": "code",
   "execution_count": null,
   "id": "f6ec0e84",
   "metadata": {},
   "outputs": [
    {
     "ename": "KeyboardInterrupt",
     "evalue": "",
     "output_type": "error",
     "traceback": [
      "\u001b[0;31m---------------------------------------------------------------------------\u001b[0m",
      "\u001b[0;31mKeyboardInterrupt\u001b[0m                         Traceback (most recent call last)",
      "Cell \u001b[0;32mIn[8], line 1\u001b[0m\n\u001b[0;32m----> 1\u001b[0m \u001b[38;5;28;01mimport\u001b[39;00m \u001b[38;5;21;01mCollabFilterOneVectorPerItem\u001b[39;00m\n",
      "File \u001b[0;32m~/Desktop/CS135/projB/src_starter/CollabFilterOneVectorPerItem.py:16\u001b[0m\n\u001b[1;32m     13\u001b[0m \u001b[39mimport\u001b[39;00m \u001b[39mnumpy\u001b[39;00m \u001b[39mas\u001b[39;00m \u001b[39mnp\u001b[39;00m\n\u001b[1;32m     15\u001b[0m \u001b[39m# Use helper packages\u001b[39;00m\n\u001b[0;32m---> 16\u001b[0m \u001b[39mfrom\u001b[39;00m \u001b[39mAbstractBaseCollabFilterSGD\u001b[39;00m \u001b[39mimport\u001b[39;00m AbstractBaseCollabFilterSGD\n\u001b[1;32m     17\u001b[0m \u001b[39mfrom\u001b[39;00m \u001b[39mtrain_valid_test_loader\u001b[39;00m \u001b[39mimport\u001b[39;00m load_train_valid_test_datasets\n\u001b[1;32m     20\u001b[0m \u001b[39m# Some packages you might need (uncomment as necessary)\u001b[39;00m\n\u001b[1;32m     21\u001b[0m \u001b[39m## import pandas as pd\u001b[39;00m\n\u001b[1;32m     22\u001b[0m \u001b[39m## import matplotlib\u001b[39;00m\n\u001b[1;32m     23\u001b[0m \n\u001b[1;32m     24\u001b[0m \u001b[39m# No other imports specific to ML (e.g. scikit) needed!\u001b[39;00m\n",
      "File \u001b[0;32m~/Desktop/CS135/projB/src_starter/AbstractBaseCollabFilterSGD.py:6\u001b[0m\n\u001b[1;32m      4\u001b[0m \u001b[39mimport\u001b[39;00m \u001b[39msys\u001b[39;00m\n\u001b[1;32m      5\u001b[0m \u001b[39mimport\u001b[39;00m \u001b[39mpandas\u001b[39;00m \u001b[39mas\u001b[39;00m \u001b[39mpd\u001b[39;00m\n\u001b[0;32m----> 6\u001b[0m \u001b[39mfrom\u001b[39;00m \u001b[39msklearn\u001b[39;00m \u001b[39mimport\u001b[39;00m metrics\n\u001b[1;32m      8\u001b[0m \u001b[39mclass\u001b[39;00m \u001b[39mAbstractBaseCollabFilterSGD\u001b[39;00m(\u001b[39mobject\u001b[39m):\n\u001b[1;32m      9\u001b[0m \u001b[39m    \u001b[39m\u001b[39m\"\"\" Base class for user-movie rating prediction via matrix factorization.\u001b[39;00m\n\u001b[1;32m     10\u001b[0m \n\u001b[1;32m     11\u001b[0m \u001b[39m    Attributes set by calling __init__()\u001b[39;00m\n\u001b[0;32m   (...)\u001b[0m\n\u001b[1;32m     24\u001b[0m \u001b[39m        Values are *numpy arrays* of parameter values\u001b[39;00m\n\u001b[1;32m     25\u001b[0m \u001b[39m    \"\"\"\u001b[39;00m\n",
      "File \u001b[0;32m~/opt/anaconda3/envs/cs135_env/lib/python3.10/site-packages/sklearn/metrics/__init__.py:42\u001b[0m\n\u001b[1;32m     38\u001b[0m \u001b[39mfrom\u001b[39;00m \u001b[39m.\u001b[39;00m\u001b[39m_classification\u001b[39;00m \u001b[39mimport\u001b[39;00m multilabel_confusion_matrix\n\u001b[1;32m     40\u001b[0m \u001b[39mfrom\u001b[39;00m \u001b[39m.\u001b[39;00m\u001b[39m_dist_metrics\u001b[39;00m \u001b[39mimport\u001b[39;00m DistanceMetric\n\u001b[0;32m---> 42\u001b[0m \u001b[39mfrom\u001b[39;00m \u001b[39m.\u001b[39;00m \u001b[39mimport\u001b[39;00m cluster\n\u001b[1;32m     43\u001b[0m \u001b[39mfrom\u001b[39;00m \u001b[39m.\u001b[39;00m\u001b[39mcluster\u001b[39;00m \u001b[39mimport\u001b[39;00m adjusted_mutual_info_score\n\u001b[1;32m     44\u001b[0m \u001b[39mfrom\u001b[39;00m \u001b[39m.\u001b[39;00m\u001b[39mcluster\u001b[39;00m \u001b[39mimport\u001b[39;00m adjusted_rand_score\n",
      "File \u001b[0;32m~/opt/anaconda3/envs/cs135_env/lib/python3.10/site-packages/sklearn/metrics/cluster/__init__.py:22\u001b[0m\n\u001b[1;32m     20\u001b[0m \u001b[39mfrom\u001b[39;00m \u001b[39m.\u001b[39;00m\u001b[39m_supervised\u001b[39;00m \u001b[39mimport\u001b[39;00m fowlkes_mallows_score\n\u001b[1;32m     21\u001b[0m \u001b[39mfrom\u001b[39;00m \u001b[39m.\u001b[39;00m\u001b[39m_supervised\u001b[39;00m \u001b[39mimport\u001b[39;00m entropy\n\u001b[0;32m---> 22\u001b[0m \u001b[39mfrom\u001b[39;00m \u001b[39m.\u001b[39;00m\u001b[39m_unsupervised\u001b[39;00m \u001b[39mimport\u001b[39;00m silhouette_samples\n\u001b[1;32m     23\u001b[0m \u001b[39mfrom\u001b[39;00m \u001b[39m.\u001b[39;00m\u001b[39m_unsupervised\u001b[39;00m \u001b[39mimport\u001b[39;00m silhouette_score\n\u001b[1;32m     24\u001b[0m \u001b[39mfrom\u001b[39;00m \u001b[39m.\u001b[39;00m\u001b[39m_unsupervised\u001b[39;00m \u001b[39mimport\u001b[39;00m calinski_harabasz_score\n",
      "File \u001b[0;32m~/opt/anaconda3/envs/cs135_env/lib/python3.10/site-packages/sklearn/metrics/cluster/_unsupervised.py:16\u001b[0m\n\u001b[1;32m     14\u001b[0m \u001b[39mfrom\u001b[39;00m \u001b[39m.\u001b[39;00m\u001b[39m.\u001b[39;00m\u001b[39m.\u001b[39;00m\u001b[39mutils\u001b[39;00m \u001b[39mimport\u001b[39;00m check_X_y\n\u001b[1;32m     15\u001b[0m \u001b[39mfrom\u001b[39;00m \u001b[39m.\u001b[39;00m\u001b[39m.\u001b[39;00m\u001b[39m.\u001b[39;00m\u001b[39mutils\u001b[39;00m \u001b[39mimport\u001b[39;00m _safe_indexing\n\u001b[0;32m---> 16\u001b[0m \u001b[39mfrom\u001b[39;00m \u001b[39m.\u001b[39;00m\u001b[39m.\u001b[39;00m\u001b[39mpairwise\u001b[39;00m \u001b[39mimport\u001b[39;00m pairwise_distances_chunked\n\u001b[1;32m     17\u001b[0m \u001b[39mfrom\u001b[39;00m \u001b[39m.\u001b[39;00m\u001b[39m.\u001b[39;00m\u001b[39mpairwise\u001b[39;00m \u001b[39mimport\u001b[39;00m pairwise_distances\n\u001b[1;32m     18\u001b[0m \u001b[39mfrom\u001b[39;00m \u001b[39m.\u001b[39;00m\u001b[39m.\u001b[39;00m\u001b[39m.\u001b[39;00m\u001b[39mpreprocessing\u001b[39;00m \u001b[39mimport\u001b[39;00m LabelEncoder\n",
      "File \u001b[0;32m~/opt/anaconda3/envs/cs135_env/lib/python3.10/site-packages/sklearn/metrics/pairwise.py:33\u001b[0m\n\u001b[1;32m     30\u001b[0m \u001b[39mfrom\u001b[39;00m \u001b[39m.\u001b[39;00m\u001b[39m.\u001b[39;00m\u001b[39mutils\u001b[39;00m\u001b[39m.\u001b[39;00m\u001b[39mparallel\u001b[39;00m \u001b[39mimport\u001b[39;00m delayed, Parallel\n\u001b[1;32m     31\u001b[0m \u001b[39mfrom\u001b[39;00m \u001b[39m.\u001b[39;00m\u001b[39m.\u001b[39;00m\u001b[39mutils\u001b[39;00m\u001b[39m.\u001b[39;00m\u001b[39mfixes\u001b[39;00m \u001b[39mimport\u001b[39;00m sp_version, parse_version\n\u001b[0;32m---> 33\u001b[0m \u001b[39mfrom\u001b[39;00m \u001b[39m.\u001b[39;00m\u001b[39m_pairwise_distances_reduction\u001b[39;00m \u001b[39mimport\u001b[39;00m ArgKmin\n\u001b[1;32m     34\u001b[0m \u001b[39mfrom\u001b[39;00m \u001b[39m.\u001b[39;00m\u001b[39m_pairwise_fast\u001b[39;00m \u001b[39mimport\u001b[39;00m _chi2_kernel_fast, _sparse_manhattan\n\u001b[1;32m     35\u001b[0m \u001b[39mfrom\u001b[39;00m \u001b[39m.\u001b[39;00m\u001b[39m.\u001b[39;00m\u001b[39mexceptions\u001b[39;00m \u001b[39mimport\u001b[39;00m DataConversionWarning\n",
      "File \u001b[0;32m~/opt/anaconda3/envs/cs135_env/lib/python3.10/site-packages/sklearn/metrics/_pairwise_distances_reduction/__init__.py:89\u001b[0m\n\u001b[1;32m      1\u001b[0m \u001b[39m# Pairwise Distances Reductions\u001b[39;00m\n\u001b[1;32m      2\u001b[0m \u001b[39m# =============================\u001b[39;00m\n\u001b[1;32m      3\u001b[0m \u001b[39m#\u001b[39;00m\n\u001b[0;32m   (...)\u001b[0m\n\u001b[1;32m     85\u001b[0m \u001b[39m#    using Generalized Matrix Multiplication over `float64` data (see the\u001b[39;00m\n\u001b[1;32m     86\u001b[0m \u001b[39m#    docstring of :class:`GEMMTermComputer64` for details).\u001b[39;00m\n\u001b[0;32m---> 89\u001b[0m \u001b[39mfrom\u001b[39;00m \u001b[39m.\u001b[39;00m\u001b[39m_dispatcher\u001b[39;00m \u001b[39mimport\u001b[39;00m (\n\u001b[1;32m     90\u001b[0m     BaseDistancesReductionDispatcher,\n\u001b[1;32m     91\u001b[0m     ArgKmin,\n\u001b[1;32m     92\u001b[0m     RadiusNeighbors,\n\u001b[1;32m     93\u001b[0m     sqeuclidean_row_norms,\n\u001b[1;32m     94\u001b[0m )\n\u001b[1;32m     96\u001b[0m __all__ \u001b[39m=\u001b[39m [\n\u001b[1;32m     97\u001b[0m     \u001b[39m\"\u001b[39m\u001b[39mBaseDistancesReductionDispatcher\u001b[39m\u001b[39m\"\u001b[39m,\n\u001b[1;32m     98\u001b[0m     \u001b[39m\"\u001b[39m\u001b[39mArgKmin\u001b[39m\u001b[39m\"\u001b[39m,\n\u001b[1;32m     99\u001b[0m     \u001b[39m\"\u001b[39m\u001b[39mRadiusNeighbors\u001b[39m\u001b[39m\"\u001b[39m,\n\u001b[1;32m    100\u001b[0m     \u001b[39m\"\u001b[39m\u001b[39msqeuclidean_row_norms\u001b[39m\u001b[39m\"\u001b[39m,\n\u001b[1;32m    101\u001b[0m ]\n",
      "File \u001b[0;32m~/opt/anaconda3/envs/cs135_env/lib/python3.10/site-packages/sklearn/metrics/_pairwise_distances_reduction/_dispatcher.py:11\u001b[0m\n\u001b[1;32m      7\u001b[0m \u001b[39mfrom\u001b[39;00m \u001b[39mscipy\u001b[39;00m\u001b[39m.\u001b[39;00m\u001b[39msparse\u001b[39;00m \u001b[39mimport\u001b[39;00m isspmatrix_csr\n\u001b[1;32m      9\u001b[0m \u001b[39mfrom\u001b[39;00m \u001b[39m.\u001b[39;00m\u001b[39m.\u001b[39;00m\u001b[39m_dist_metrics\u001b[39;00m \u001b[39mimport\u001b[39;00m BOOL_METRICS, METRIC_MAPPING\n\u001b[0;32m---> 11\u001b[0m \u001b[39mfrom\u001b[39;00m \u001b[39m.\u001b[39;00m\u001b[39m_base\u001b[39;00m \u001b[39mimport\u001b[39;00m _sqeuclidean_row_norms32, _sqeuclidean_row_norms64\n\u001b[1;32m     12\u001b[0m \u001b[39mfrom\u001b[39;00m \u001b[39m.\u001b[39;00m\u001b[39m_argkmin\u001b[39;00m \u001b[39mimport\u001b[39;00m (\n\u001b[1;32m     13\u001b[0m     ArgKmin64,\n\u001b[1;32m     14\u001b[0m     ArgKmin32,\n\u001b[1;32m     15\u001b[0m )\n\u001b[1;32m     16\u001b[0m \u001b[39mfrom\u001b[39;00m \u001b[39m.\u001b[39;00m\u001b[39m_radius_neighbors\u001b[39;00m \u001b[39mimport\u001b[39;00m (\n\u001b[1;32m     17\u001b[0m     RadiusNeighbors64,\n\u001b[1;32m     18\u001b[0m     RadiusNeighbors32,\n\u001b[1;32m     19\u001b[0m )\n",
      "File \u001b[0;32msklearn/metrics/_pairwise_distances_reduction/_base.pyx:1\u001b[0m, in \u001b[0;36minit sklearn.metrics._pairwise_distances_reduction._base\u001b[0;34m()\u001b[0m\n",
      "File \u001b[0;32m<frozen importlib._bootstrap>:404\u001b[0m, in \u001b[0;36mparent\u001b[0;34m(self)\u001b[0m\n",
      "\u001b[0;31mKeyboardInterrupt\u001b[0m: "
     ]
    }
   ],
   "source": [
    "import CollabFilterOneVectorPerItem"
   ]
  },
  {
   "cell_type": "code",
   "execution_count": null,
   "id": "f54325eb",
   "metadata": {},
   "outputs": [],
   "source": [
    "train_tuple, valid_tuple, test_tuple, n_users, n_items = \\\n",
    "    load_train_valid_test_datasets()\n",
    "# Create the model and initialize its parameters\n",
    "# to have right scale as the dataset (right num users and items)"
   ]
  },
  {
   "cell_type": "code",
   "execution_count": null,
   "id": "671d8f2e",
   "metadata": {},
   "outputs": [],
   "source": [
    "from AbstractBaseCollabFilterSGD import AbstractBaseCollabFilterSGD\n",
    "from train_valid_test_loader import load_train_valid_test_datasets"
   ]
  },
  {
   "cell_type": "code",
   "execution_count": null,
   "id": "49edd53e",
   "metadata": {},
   "outputs": [],
   "source": [
    "from CollabFilterOneVectorPerItem import CollabFilterOneVectorPerItem"
   ]
  },
  {
   "cell_type": "code",
   "execution_count": null,
   "id": "618796a7",
   "metadata": {},
   "outputs": [],
   "source": [
    "model2 = CollabFilterOneVectorPerItem(n_epochs=10, batch_size=32, step_size=0.1,n_factors=50, alpha=0.5)\n",
    "model2.init_parameter_dict(n_users, n_items, train_tuple)   # Train Tuple: 3 x 70,000"
   ]
  },
  {
   "cell_type": "code",
   "execution_count": null,
   "id": "6663f73b",
   "metadata": {},
   "outputs": [],
   "source": [
    "\n",
    "\n",
    "# Fit the model with SGD\n",
    "model2.fit(train_tuple, valid_tuple)"
   ]
  },
  {
   "cell_type": "code",
   "execution_count": null,
   "metadata": {},
   "outputs": [],
   "source": [
    "epock1 = model2.trace_epoch\n",
    "train_mae1 = model2.trace_mae_train\n",
    "valid_mae1 = model2.trace_mae_valid"
   ]
  },
  {
   "cell_type": "code",
   "execution_count": null,
   "id": "036d0c54",
   "metadata": {},
   "outputs": [],
   "source": [
    "import matplotlib.pyplot as plt\n",
    "\n",
    "# Assuming 'epochs' and 'losses' are your arrays\n",
    "\n",
    "# Create a figure and axis object\n",
    "plt.figure(figsize=(10, 5))  # Set the figure size\n",
    "plt.plot(epock1, train_mae1, marker='o', color='b', linestyle='-')  # Plot with line and markers\n",
    "plt.plot(epock1, valid_mae1, marker='o', color='r', linestyle='-')  # Plot with line and markers\n",
    "\n",
    "# Adding title and labels\n",
    "plt.title('Loss over Epochs')\n",
    "plt.xlabel('Epoch')\n",
    "plt.ylabel('Loss')\n",
    "\n",
    "# Adding grid for better readability\n",
    "plt.grid(True)\n",
    "\n",
    "# Show the plot\n",
    "plt.show()\n"
   ]
  },
  {
   "cell_type": "code",
   "execution_count": null,
   "id": "f6aba0cd",
   "metadata": {},
   "outputs": [],
   "source": [
    "model_10 = CollabFilterOneVectorPerItem(n_epochs=10, batch_size=32, step_size=0.1,n_factors=50, alpha=0.5)\n",
    "model_10.init_parameter_dict(n_users, n_items, train_tuple)   # Train Tuple: 3 x 70,000\n",
    "# Fit the model with SGD\n",
    "model_10.fit(train_tuple, valid_tuple)"
   ]
  },
  {
   "cell_type": "code",
   "execution_count": null,
   "id": "38d97e22",
   "metadata": {},
   "outputs": [],
   "source": [
    "epock2 = model_10.trace_epoch\n",
    "train_mae2 = model_10.trace_mae_train\n",
    "valid_mae2 = model_10.trace_mae_valid"
   ]
  },
  {
   "cell_type": "code",
   "execution_count": null,
   "id": "cbdd73c7",
   "metadata": {},
   "outputs": [],
   "source": [
    "plt.figure(figsize=(10, 5))  # Set the figure size\n",
    "plt.plot(epock2, train_mae2, marker='o', color='b', linestyle='-')  # Plot with line and markers\n",
    "plt.plot(epock2, valid_mae2, marker='o', color='r', linestyle='-')  # Plot with line and markers\n",
    "\n",
    "# Adding title and labels\n",
    "plt.title('Loss over Epochs')\n",
    "plt.xlabel('Epoch')\n",
    "plt.ylabel('Loss')\n",
    "\n",
    "# Adding grid for better readability\n",
    "plt.grid(True)\n",
    "\n",
    "# Show the plot\n",
    "plt.show()"
   ]
  },
  {
   "cell_type": "code",
   "execution_count": null,
   "id": "49ae2e00",
   "metadata": {},
   "outputs": [],
   "source": [
    "model_50 = CollabFilterOneVectorPerItem(n_epochs=10, batch_size=32, step_size=0.1,n_factors=50, alpha=0.5)\n",
    "model_50.init_parameter_dict(n_users, n_items, train_tuple)   # Train Tuple: 3 x 70,000\n",
    "# Fit the model with SGD\n",
    "model_50.fit(train_tuple, valid_tuple)"
   ]
  },
  {
   "cell_type": "code",
   "execution_count": null,
   "id": "da783fee",
   "metadata": {},
   "outputs": [],
   "source": [
    "epock3 = model_50.trace_epoch\n",
    "\n",
    "train_mae3 = model_50.trace_mae_train\n",
    "valid_mae3 = model_50.trace_mae_valid\n",
    "\n",
    "plt.figure(figsize=(10, 5))  # Set the figure size\n",
    "plt.plot(epock3, train_mae3, marker='o', color='b', linestyle='-')  # Plot with line and markers\n",
    "plt.plot(epock3, valid_mae3, marker='o', color='r', linestyle='-')  # Plot with line and markers\n",
    "\n",
    "# Adding title and labels\n",
    "plt.title('Loss over Epochs')\n",
    "plt.xlabel('Epoch')\n",
    "plt.ylabel('Loss')\n",
    "\n",
    "# Adding grid for better readability\n",
    "plt.grid(True)\n",
    "\n",
    "# Show the plot\n",
    "plt.show()"
   ]
  },
  {
   "cell_type": "markdown",
   "metadata": {},
   "source": [
    "PART B"
   ]
  },
  {
   "cell_type": "code",
   "execution_count": null,
   "metadata": {},
   "outputs": [],
   "source": [
    "model_alph = CollabFilterOneVectorPerItem(n_epochs=10, batch_size=32, step_size=0.1,n_factors=50, alpha=0.5)\n",
    "model_alph.init_parameter_dict(n_users, n_items, train_tuple)   # Train Tuple: 3 x 70,000\n",
    "# Fit the model with SGD\n",
    "model_alph.fit(train_tuple, valid_tuple)\n",
    "\n",
    "\n",
    "\n",
    "epockalph = model_alph.trace_epoch\n",
    "\n",
    "train_mae_a = model_alph.trace_mae_train\n",
    "valid_mae_a = model_alph.trace_mae_valid\n",
    "\n",
    "plt.figure(figsize=(10, 5))  # Set the figure size\n",
    "plt.plot(epockalph, train_mae_a, marker='o', color='b', linestyle='-')  # Plot with line and markers\n",
    "plt.plot(epockalph, valid_mae_a, marker='o', color='r', linestyle='-')  # Plot with line and markers\n",
    "\n",
    "# Adding title and labels\n",
    "plt.title('Loss over Epochs')\n",
    "plt.xlabel('Epoch')\n",
    "plt.ylabel('Loss')\n",
    "\n",
    "# Adding grid for better readability\n",
    "plt.grid(True)\n",
    "\n",
    "# Show the plot\n",
    "plt.show()"
   ]
  },
  {
   "cell_type": "markdown",
   "metadata": {},
   "source": [
    "PART C"
   ]
  },
  {
   "cell_type": "code",
   "execution_count": null,
   "metadata": {},
   "outputs": [],
   "source": [
    "# Define the hyperparameters you want to tune\n",
    "param_grid = {\n",
    "    'n_epochs': [10],\n",
    "    'alpha': [0.1, 0.5, 1],\n",
    "    'step_size': [0.1, 0.2, 0.3],\n",
    "    'batch_size': [100, 500, 1000]  # Assuming more reasonable batch sizes for demonstration\n",
    "}\n",
    "\n",
    "# Load your data\n",
    "train_tuple, valid_tuple, test_tuple, n_users, n_items = load_train_valid_test_datasets()\n",
    "\n",
    "best_loss = float('inf')\n",
    "best_params = {}\n",
    "best_model = None\n",
    "\n",
    "# Loop through each combination of parameters\n",
    "for n_epochs in param_grid['n_epochs']:\n",
    "    for alpha in param_grid['alpha']:\n",
    "        for step_size in param_grid['step_size']:\n",
    "            for batch_size in param_grid['batch_size']:\n",
    "                model = CollabFilterOneVectorPerItem(\n",
    "                    n_epochs=n_epochs, alpha=alpha, step_size=step_size,\n",
    "                    batch_size=batch_size, n_factors=2, random_state=np.random.RandomState(101)\n",
    "                )\n",
    "                model.init_parameter_dict(n_users, n_items, train_tuple)\n",
    "                model.fit(train_tuple, valid_tuple)\n",
    "                valid_loss = model.calc_loss_wrt_parameter_dict(model.param_dict, valid_tuple)\n",
    "\n",
    "                # Check if the current model is better\n",
    "                if valid_loss < best_loss:\n",
    "                    best_loss = valid_loss\n",
    "                    best_params = {\n",
    "                        'n_epochs': n_epochs,\n",
    "                        'alpha': alpha,\n",
    "                        'step_size': step_size,\n",
    "                        'batch_size': batch_size\n",
    "                    }\n",
    "                    best_model = model\n",
    "\n",
    "# Output the best parameters and their corresponding loss\n",
    "print(\"Best parameters:\", best_params)\n",
    "print(\"Best validation loss:\", best_loss)\n"
   ]
  },
  {
   "cell_type": "code",
   "execution_count": null,
   "metadata": {},
   "outputs": [],
   "source": [
    "# load the test dataset and create scatterplot\n",
    "\n",
    "select_movies = pd.read_csv('../data_movie_lens_100k/select_movies.csv')\n",
    "# y_tr_df = pd.read_csv('submit/data_reviews/y_train.csv')"
   ]
  },
  {
   "cell_type": "code",
   "execution_count": null,
   "metadata": {},
   "outputs": [],
   "source": [
    "print(select_movies)"
   ]
  },
  {
   "cell_type": "code",
   "execution_count": null,
   "metadata": {},
   "outputs": [],
   "source": [
    "print(select_movies['item_id'].to_numpy())"
   ]
  },
  {
   "cell_type": "code",
   "execution_count": null,
   "id": "3cd4bf8e",
   "metadata": {},
   "outputs": [],
   "source": [
    "movie_ids = select_movies['item_id'].values\n",
    "selected_movie_embeddings = best_model.param_dict['V'][movie_ids]"
   ]
  },
  {
   "cell_type": "code",
   "execution_count": null,
   "metadata": {},
   "outputs": [],
   "source": [
    "\n",
    "\n",
    "movie_ids = select_movies['item_id'].to_numpy()\n",
    "print(best_model.param_dict['V'][movie_ids])\n",
    "\n",
    "the_reals = best_model.param_dict['V'][movie_ids]"
   ]
  },
  {
   "cell_type": "code",
   "execution_count": null,
   "metadata": {},
   "outputs": [],
   "source": [
    "print(the_reals[0])"
   ]
  },
  {
   "cell_type": "code",
   "execution_count": null,
   "metadata": {},
   "outputs": [],
   "source": [
    "import matplotlib.pyplot as plt\n",
    "\n",
    "labels = select_movies['title'].to_numpy()\n",
    "\n",
    "# Extract x and y coordinates\n",
    "x_values = [movie[0] for movie in the_reals]\n",
    "y_values = [mo[1] for mo in the_reals]\n",
    "\n",
    "# Create a scatter plot\n",
    "plt.figure(figsize=(14, 10))  # Increase figure size\n",
    "plt.scatter(x_values, y_values, alpha=0.5)  # Add transparency\n",
    "\n",
    "# Annotate each point with its label\n",
    "for (x, y, label) in zip(x_values, y_values, labels):\n",
    "    plt.annotate(label,\n",
    "                 (x, y),\n",
    "                 textcoords=\"offset points\",\n",
    "                 xytext=(0,10),\n",
    "                 ha='center',\n",
    "                 bbox=dict(boxstyle=\"round,pad=0.3\", edgecolor='gray', facecolor='white', alpha=0.8))  # Add bounding box for labels\n",
    "\n",
    "# Add titles and labels\n",
    "plt.title('Scatter Plot with Labels')\n",
    "plt.xlabel('X values')\n",
    "plt.ylabel('Y values')\n",
    "plt.grid(True)  # Add grid\n",
    "\n",
    "# Show the plot\n",
    "plt.show()\n"
   ]
  },
  {
   "cell_type": "code",
   "execution_count": null,
   "metadata": {},
   "outputs": [],
   "source": [
    "labels = select_movies['title'].to_numpy()\n",
    "\n",
    "# Extract x and y coordinates\n",
    "x_values = [movie[0] for movie in the_reals]\n",
    "y_values = [mo[1] for mo in the_reals]\n",
    "\n",
    "# Create a scatter plot\n",
    "plt.scatter(x_values, y_values)\n",
    "\n",
    "# Annotate each point with its label\n",
    "for (x, y, label) in zip(x_values, y_values, labels):\n",
    "    plt.annotate(label, # this is the text\n",
    "                 (x, y), # these are the coordinates to position the label\n",
    "                 textcoords=\"offset points\", # how to position the text\n",
    "                 xytext=(0,10), # distance from text to points (x,y)\n",
    "                 ha='center',\n",
    "                 fontsize=6) # horizontal alignment can be left, right or center\n",
    "\n",
    "\n",
    "\n",
    "# Optionally, add titles and labels\n",
    "plt.title('Scatter Plot with Labels')\n",
    "plt.xlabel('X values')\n",
    "plt.ylabel('Y values')\n",
    "\n",
    "# Show the plot\n",
    "plt.show()\n"
   ]
  },
  {
   "cell_type": "code",
   "execution_count": null,
   "id": "27d9d48c",
   "metadata": {},
   "outputs": [],
   "source": [
    "import matplotlib.pyplot as plt\n",
    "\n",
    "# Assuming each row in selected_movie_embeddings is an embedding vector\n",
    "x = selected_movie_embeddings[:, 0]  # First dimension\n",
    "y = selected_movie_embeddings[:, 1]  # Second dimension\n",
    "\n",
    "# Create scatter plot\n",
    "plt.figure(figsize=(10, 8))\n",
    "plt.scatter(x, y)\n",
    "\n",
    "# Label each point with the corresponding movie ID\n",
    "for i, movie_id in enumerate(movie_ids):\n",
    "    plt.annotate(str(movie_id), (x[i], y[i]))\n",
    "\n",
    "plt.title('2D Embedding Vectors for Selected Movies')\n",
    "plt.xlabel('Dimension 1')\n",
    "plt.ylabel('Dimension 2')\n",
    "plt.grid(True)\n",
    "plt.show()\n"
   ]
  }
 ],
 "metadata": {
  "kernelspec": {
   "display_name": "Python 3.10.14 ('cs135_env')",
   "language": "python",
   "name": "python3"
  },
  "language_info": {
   "codemirror_mode": {
    "name": "ipython",
    "version": 3
   },
   "file_extension": ".py",
   "mimetype": "text/x-python",
   "name": "python",
   "nbconvert_exporter": "python",
   "pygments_lexer": "ipython3",
   "version": "3.10.14"
  },
  "vscode": {
   "interpreter": {
    "hash": "bc283926ba7c0a798ae9080f1ce6d7d58b9ad6ca42b8fbecc0a2bf909493a65f"
   }
  }
 },
 "nbformat": 4,
 "nbformat_minor": 5
}
